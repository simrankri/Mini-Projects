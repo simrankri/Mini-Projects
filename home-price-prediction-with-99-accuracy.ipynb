{
 "cells": [
  {
   "cell_type": "code",
   "execution_count": 1,
   "id": "ee56d3d4",
   "metadata": {
    "_cell_guid": "b1076dfc-b9ad-4769-8c92-a6c4dae69d19",
    "_uuid": "8f2839f25d086af736a60e9eeb907d3b93b6e0e5",
    "execution": {
     "iopub.execute_input": "2022-03-14T11:58:36.731747Z",
     "iopub.status.busy": "2022-03-14T11:58:36.730860Z",
     "iopub.status.idle": "2022-03-14T11:58:36.747424Z",
     "shell.execute_reply": "2022-03-14T11:58:36.747980Z"
    },
    "papermill": {
     "duration": 0.056916,
     "end_time": "2022-03-14T11:58:36.748261",
     "exception": false,
     "start_time": "2022-03-14T11:58:36.691345",
     "status": "completed"
    },
    "tags": []
   },
   "outputs": [
    {
     "name": "stdout",
     "output_type": "stream",
     "text": [
      "/kaggle/input/house-price-prediction-challenge/sample_submission.csv\n",
      "/kaggle/input/house-price-prediction-challenge/train.csv\n",
      "/kaggle/input/house-price-prediction-challenge/test.csv\n"
     ]
    }
   ],
   "source": [
    "# This Python 3 environment comes with many helpful analytics libraries installed\n",
    "# It is defined by the kaggle/python Docker image: https://github.com/kaggle/docker-python\n",
    "# For example, here's several helpful packages to load\n",
    "\n",
    "import numpy as np # linear algebra\n",
    "import pandas as pd # data processing, CSV file I/O (e.g. pd.read_csv)\n",
    "\n",
    "# Input data files are available in the read-only \"../input/\" directory\n",
    "# For example, running this (by clicking run or pressing Shift+Enter) will list all files under the input directory\n",
    "\n",
    "import os\n",
    "for dirname, _, filenames in os.walk('/kaggle/input'):\n",
    "    for filename in filenames:\n",
    "        print(os.path.join(dirname, filename))\n",
    "\n",
    "# You can write up to 20GB to the current directory (/kaggle/working/) that gets preserved as output when you create a version using \"Save & Run All\" \n",
    "# You can also write temporary files to /kaggle/temp/, but they won't be saved outside of the current session"
   ]
  },
  {
   "cell_type": "code",
   "execution_count": 2,
   "id": "1ad632d6",
   "metadata": {
    "execution": {
     "iopub.execute_input": "2022-03-14T11:58:36.803557Z",
     "iopub.status.busy": "2022-03-14T11:58:36.800551Z",
     "iopub.status.idle": "2022-03-14T11:58:38.292279Z",
     "shell.execute_reply": "2022-03-14T11:58:38.292830Z",
     "shell.execute_reply.started": "2022-03-14T11:47:33.562923Z"
    },
    "papermill": {
     "duration": 1.519521,
     "end_time": "2022-03-14T11:58:38.293003",
     "exception": false,
     "start_time": "2022-03-14T11:58:36.773482",
     "status": "completed"
    },
    "tags": []
   },
   "outputs": [],
   "source": [
    "import pandas as pd\n",
    "import numpy as np\n",
    "import matplotlib.pyplot as plt\n",
    "import seaborn as sns\n",
    "\n",
    "from sklearn.model_selection import train_test_split\n",
    "from sklearn.preprocessing import LabelEncoder\n",
    "from sklearn.metrics import r2_score, confusion_matrix, accuracy_score, log_loss, classification_report, mean_squared_error, mean_absolute_error\n",
    "from sklearn.tree import DecisionTreeClassifier\n",
    "from sklearn.linear_model import LinearRegression, LogisticRegression\n",
    "from sklearn.tree import DecisionTreeRegressor\n",
    "\n",
    "\n",
    "from sklearn.feature_selection import RFE\n",
    "from sklearn.ensemble import RandomForestRegressor\n"
   ]
  },
  {
   "cell_type": "code",
   "execution_count": 3,
   "id": "41fe44cf",
   "metadata": {
    "execution": {
     "iopub.execute_input": "2022-03-14T11:58:38.348917Z",
     "iopub.status.busy": "2022-03-14T11:58:38.348194Z",
     "iopub.status.idle": "2022-03-14T11:58:38.443246Z",
     "shell.execute_reply": "2022-03-14T11:58:38.442698Z",
     "shell.execute_reply.started": "2022-03-14T11:56:44.379527Z"
    },
    "papermill": {
     "duration": 0.125647,
     "end_time": "2022-03-14T11:58:38.443421",
     "exception": false,
     "start_time": "2022-03-14T11:58:38.317774",
     "status": "completed"
    },
    "tags": []
   },
   "outputs": [],
   "source": [
    "df = pd.read_csv('../input/house-price-prediction-challenge/train.csv')"
   ]
  },
  {
   "cell_type": "code",
   "execution_count": 4,
   "id": "ede76830",
   "metadata": {
    "execution": {
     "iopub.execute_input": "2022-03-14T11:58:38.494669Z",
     "iopub.status.busy": "2022-03-14T11:58:38.494044Z",
     "iopub.status.idle": "2022-03-14T11:58:38.514704Z",
     "shell.execute_reply": "2022-03-14T11:58:38.515159Z",
     "shell.execute_reply.started": "2022-03-14T11:47:41.429570Z"
    },
    "papermill": {
     "duration": 0.047622,
     "end_time": "2022-03-14T11:58:38.515338",
     "exception": false,
     "start_time": "2022-03-14T11:58:38.467716",
     "status": "completed"
    },
    "tags": []
   },
   "outputs": [
    {
     "data": {
      "text/html": [
       "<div>\n",
       "<style scoped>\n",
       "    .dataframe tbody tr th:only-of-type {\n",
       "        vertical-align: middle;\n",
       "    }\n",
       "\n",
       "    .dataframe tbody tr th {\n",
       "        vertical-align: top;\n",
       "    }\n",
       "\n",
       "    .dataframe thead th {\n",
       "        text-align: right;\n",
       "    }\n",
       "</style>\n",
       "<table border=\"1\" class=\"dataframe\">\n",
       "  <thead>\n",
       "    <tr style=\"text-align: right;\">\n",
       "      <th></th>\n",
       "      <th>POSTED_BY</th>\n",
       "      <th>UNDER_CONSTRUCTION</th>\n",
       "      <th>RERA</th>\n",
       "      <th>BHK_NO.</th>\n",
       "      <th>BHK_OR_RK</th>\n",
       "      <th>SQUARE_FT</th>\n",
       "      <th>READY_TO_MOVE</th>\n",
       "      <th>RESALE</th>\n",
       "      <th>ADDRESS</th>\n",
       "      <th>LONGITUDE</th>\n",
       "      <th>LATITUDE</th>\n",
       "      <th>TARGET(PRICE_IN_LACS)</th>\n",
       "    </tr>\n",
       "  </thead>\n",
       "  <tbody>\n",
       "    <tr>\n",
       "      <th>0</th>\n",
       "      <td>Owner</td>\n",
       "      <td>0</td>\n",
       "      <td>0</td>\n",
       "      <td>2</td>\n",
       "      <td>BHK</td>\n",
       "      <td>1300.236407</td>\n",
       "      <td>1</td>\n",
       "      <td>1</td>\n",
       "      <td>Ksfc Layout,Bangalore</td>\n",
       "      <td>12.969910</td>\n",
       "      <td>77.597960</td>\n",
       "      <td>55.0</td>\n",
       "    </tr>\n",
       "    <tr>\n",
       "      <th>1</th>\n",
       "      <td>Dealer</td>\n",
       "      <td>0</td>\n",
       "      <td>0</td>\n",
       "      <td>2</td>\n",
       "      <td>BHK</td>\n",
       "      <td>1275.000000</td>\n",
       "      <td>1</td>\n",
       "      <td>1</td>\n",
       "      <td>Vishweshwara Nagar,Mysore</td>\n",
       "      <td>12.274538</td>\n",
       "      <td>76.644605</td>\n",
       "      <td>51.0</td>\n",
       "    </tr>\n",
       "    <tr>\n",
       "      <th>2</th>\n",
       "      <td>Owner</td>\n",
       "      <td>0</td>\n",
       "      <td>0</td>\n",
       "      <td>2</td>\n",
       "      <td>BHK</td>\n",
       "      <td>933.159722</td>\n",
       "      <td>1</td>\n",
       "      <td>1</td>\n",
       "      <td>Jigani,Bangalore</td>\n",
       "      <td>12.778033</td>\n",
       "      <td>77.632191</td>\n",
       "      <td>43.0</td>\n",
       "    </tr>\n",
       "    <tr>\n",
       "      <th>3</th>\n",
       "      <td>Owner</td>\n",
       "      <td>0</td>\n",
       "      <td>1</td>\n",
       "      <td>2</td>\n",
       "      <td>BHK</td>\n",
       "      <td>929.921143</td>\n",
       "      <td>1</td>\n",
       "      <td>1</td>\n",
       "      <td>Sector-1 Vaishali,Ghaziabad</td>\n",
       "      <td>28.642300</td>\n",
       "      <td>77.344500</td>\n",
       "      <td>62.5</td>\n",
       "    </tr>\n",
       "    <tr>\n",
       "      <th>4</th>\n",
       "      <td>Dealer</td>\n",
       "      <td>1</td>\n",
       "      <td>0</td>\n",
       "      <td>2</td>\n",
       "      <td>BHK</td>\n",
       "      <td>999.009247</td>\n",
       "      <td>0</td>\n",
       "      <td>1</td>\n",
       "      <td>New Town,Kolkata</td>\n",
       "      <td>22.592200</td>\n",
       "      <td>88.484911</td>\n",
       "      <td>60.5</td>\n",
       "    </tr>\n",
       "  </tbody>\n",
       "</table>\n",
       "</div>"
      ],
      "text/plain": [
       "  POSTED_BY  UNDER_CONSTRUCTION  RERA  BHK_NO. BHK_OR_RK    SQUARE_FT  \\\n",
       "0     Owner                   0     0        2       BHK  1300.236407   \n",
       "1    Dealer                   0     0        2       BHK  1275.000000   \n",
       "2     Owner                   0     0        2       BHK   933.159722   \n",
       "3     Owner                   0     1        2       BHK   929.921143   \n",
       "4    Dealer                   1     0        2       BHK   999.009247   \n",
       "\n",
       "   READY_TO_MOVE  RESALE                      ADDRESS  LONGITUDE   LATITUDE  \\\n",
       "0              1       1        Ksfc Layout,Bangalore  12.969910  77.597960   \n",
       "1              1       1    Vishweshwara Nagar,Mysore  12.274538  76.644605   \n",
       "2              1       1             Jigani,Bangalore  12.778033  77.632191   \n",
       "3              1       1  Sector-1 Vaishali,Ghaziabad  28.642300  77.344500   \n",
       "4              0       1             New Town,Kolkata  22.592200  88.484911   \n",
       "\n",
       "   TARGET(PRICE_IN_LACS)  \n",
       "0                   55.0  \n",
       "1                   51.0  \n",
       "2                   43.0  \n",
       "3                   62.5  \n",
       "4                   60.5  "
      ]
     },
     "execution_count": 4,
     "metadata": {},
     "output_type": "execute_result"
    }
   ],
   "source": [
    "df.head()"
   ]
  },
  {
   "cell_type": "code",
   "execution_count": 5,
   "id": "6dc08eb7",
   "metadata": {
    "execution": {
     "iopub.execute_input": "2022-03-14T11:58:38.576222Z",
     "iopub.status.busy": "2022-03-14T11:58:38.575178Z",
     "iopub.status.idle": "2022-03-14T11:58:38.595171Z",
     "shell.execute_reply": "2022-03-14T11:58:38.594577Z",
     "shell.execute_reply.started": "2022-03-14T11:48:16.052877Z"
    },
    "papermill": {
     "duration": 0.055379,
     "end_time": "2022-03-14T11:58:38.595324",
     "exception": false,
     "start_time": "2022-03-14T11:58:38.539945",
     "status": "completed"
    },
    "tags": []
   },
   "outputs": [
    {
     "name": "stdout",
     "output_type": "stream",
     "text": [
      "<class 'pandas.core.frame.DataFrame'>\n",
      "RangeIndex: 29451 entries, 0 to 29450\n",
      "Data columns (total 12 columns):\n",
      " #   Column                 Non-Null Count  Dtype  \n",
      "---  ------                 --------------  -----  \n",
      " 0   POSTED_BY              29451 non-null  object \n",
      " 1   UNDER_CONSTRUCTION     29451 non-null  int64  \n",
      " 2   RERA                   29451 non-null  int64  \n",
      " 3   BHK_NO.                29451 non-null  int64  \n",
      " 4   BHK_OR_RK              29451 non-null  object \n",
      " 5   SQUARE_FT              29451 non-null  float64\n",
      " 6   READY_TO_MOVE          29451 non-null  int64  \n",
      " 7   RESALE                 29451 non-null  int64  \n",
      " 8   ADDRESS                29451 non-null  object \n",
      " 9   LONGITUDE              29451 non-null  float64\n",
      " 10  LATITUDE               29451 non-null  float64\n",
      " 11  TARGET(PRICE_IN_LACS)  29451 non-null  float64\n",
      "dtypes: float64(4), int64(5), object(3)\n",
      "memory usage: 2.7+ MB\n"
     ]
    }
   ],
   "source": [
    "df.info()"
   ]
  },
  {
   "cell_type": "code",
   "execution_count": 6,
   "id": "3aaf845e",
   "metadata": {
    "execution": {
     "iopub.execute_input": "2022-03-14T11:58:38.664875Z",
     "iopub.status.busy": "2022-03-14T11:58:38.664170Z",
     "iopub.status.idle": "2022-03-14T11:58:38.915855Z",
     "shell.execute_reply": "2022-03-14T11:58:38.915281Z",
     "shell.execute_reply.started": "2022-03-14T11:48:22.920664Z"
    },
    "papermill": {
     "duration": 0.295495,
     "end_time": "2022-03-14T11:58:38.915991",
     "exception": false,
     "start_time": "2022-03-14T11:58:38.620496",
     "status": "completed"
    },
    "tags": []
   },
   "outputs": [
    {
     "data": {
      "text/plain": [
       "<AxesSubplot:xlabel='POSTED_BY', ylabel='count'>"
      ]
     },
     "execution_count": 6,
     "metadata": {},
     "output_type": "execute_result"
    },
    {
     "data": {
      "image/png": "[encoded data removed]",
      "text/plain": [
       "<Figure size 720x576 with 1 Axes>"
      ]
     },
     "metadata": {
      "needs_background": "light"
     },
     "output_type": "display_data"
    }
   ],
   "source": [
    "plt.figure(figsize = (10,8))\n",
    "sns.countplot(data = df, x = 'POSTED_BY')"
   ]
  },
  {
   "cell_type": "code",
   "execution_count": 7,
   "id": "ca0edb8e",
   "metadata": {
    "execution": {
     "iopub.execute_input": "2022-03-14T11:58:38.993427Z",
     "iopub.status.busy": "2022-03-14T11:58:38.992650Z",
     "iopub.status.idle": "2022-03-14T11:58:39.045065Z",
     "shell.execute_reply": "2022-03-14T11:58:39.044522Z",
     "shell.execute_reply.started": "2022-03-14T11:48:30.489270Z"
    },
    "papermill": {
     "duration": 0.099585,
     "end_time": "2022-03-14T11:58:39.045230",
     "exception": false,
     "start_time": "2022-03-14T11:58:38.945645",
     "status": "completed"
    },
    "tags": []
   },
   "outputs": [
    {
     "name": "stdout",
     "output_type": "stream",
     "text": [
      "The number of values for feature POSTED_BY is: 3 -- ['Builder' 'Dealer' 'Owner']\n",
      "The number of values for feature UNDER_CONSTRUCTION is: 2 -- [0 1]\n",
      "The number of values for feature RERA is: 2 -- [0 1]\n",
      "The number of values for feature BHK_NO. is: 16\n",
      "The number of values for feature BHK_OR_RK is: 2 -- ['BHK' 'RK']\n",
      "The number of values for feature SQUARE_FT is: 19561\n",
      "The number of values for feature READY_TO_MOVE is: 2 -- [0 1]\n",
      "The number of values for feature RESALE is: 2 -- [0 1]\n",
      "The number of values for feature ADDRESS is: 6899\n",
      "The number of values for feature LONGITUDE is: 4087\n",
      "The number of values for feature LATITUDE is: 4078\n",
      "The number of values for feature TARGET(PRICE_IN_LACS) is: 1172\n"
     ]
    }
   ],
   "source": [
    "for column in df:\n",
    "  uniq_val = np.unique(df[column])\n",
    "  np_val = len(uniq_val)\n",
    "  if np_val < 10:\n",
    "    print(\"The number of values for feature {} is: {} -- {}\".format(column, np_val, uniq_val))\n",
    "  else:\n",
    "    print(\"The number of values for feature {} is: {}\".format(column, np_val)) "
   ]
  },
  {
   "cell_type": "code",
   "execution_count": 8,
   "id": "2fe1f273",
   "metadata": {
    "execution": {
     "iopub.execute_input": "2022-03-14T11:58:39.106564Z",
     "iopub.status.busy": "2022-03-14T11:58:39.105933Z",
     "iopub.status.idle": "2022-03-14T11:58:39.292192Z",
     "shell.execute_reply": "2022-03-14T11:58:39.291602Z",
     "shell.execute_reply.started": "2022-03-14T11:56:51.728759Z"
    },
    "papermill": {
     "duration": 0.219957,
     "end_time": "2022-03-14T11:58:39.292374",
     "exception": false,
     "start_time": "2022-03-14T11:58:39.072417",
     "status": "completed"
    },
    "tags": []
   },
   "outputs": [],
   "source": [
    "df['CITY'] = df['ADDRESS'].str.split(\",\").str[-1]\n",
    "df = df.drop('ADDRESS', axis = 1)\n"
   ]
  },
  {
   "cell_type": "code",
   "execution_count": 9,
   "id": "d765dbab",
   "metadata": {
    "execution": {
     "iopub.execute_input": "2022-03-14T11:58:39.353081Z",
     "iopub.status.busy": "2022-03-14T11:58:39.352144Z",
     "iopub.status.idle": "2022-03-14T11:58:39.868224Z",
     "shell.execute_reply": "2022-03-14T11:58:39.868808Z",
     "shell.execute_reply.started": "2022-03-14T11:49:18.905258Z"
    },
    "papermill": {
     "duration": 0.549705,
     "end_time": "2022-03-14T11:58:39.868985",
     "exception": false,
     "start_time": "2022-03-14T11:58:39.319280",
     "status": "completed"
    },
    "tags": []
   },
   "outputs": [
    {
     "name": "stderr",
     "output_type": "stream",
     "text": [
      "/opt/conda/lib/python3.7/site-packages/seaborn/distributions.py:2619: FutureWarning: `distplot` is a deprecated function and will be removed in a future version. Please adapt your code to use either `displot` (a figure-level function with similar flexibility) or `histplot` (an axes-level function for histograms).\n",
      "  warnings.warn(msg, FutureWarning)\n"
     ]
    },
    {
     "data": {
      "text/plain": [
       "<AxesSubplot:xlabel='TARGET(PRICE_IN_LACS)', ylabel='Density'>"
      ]
     },
     "execution_count": 9,
     "metadata": {},
     "output_type": "execute_result"
    },
    {
     "data": {
      "image/png": "[encoded data removed]",
      "text/plain": [
       "<Figure size 720x720 with 1 Axes>"
      ]
     },
     "metadata": {
      "needs_background": "light"
     },
     "output_type": "display_data"
    }
   ],
   "source": [
    "plt.figure(figsize = (10,10))\n",
    "sns.distplot(df['TARGET(PRICE_IN_LACS)'])"
   ]
  },
  {
   "cell_type": "code",
   "execution_count": 10,
   "id": "0b9a24d4",
   "metadata": {
    "execution": {
     "iopub.execute_input": "2022-03-14T11:58:39.929902Z",
     "iopub.status.busy": "2022-03-14T11:58:39.929230Z",
     "iopub.status.idle": "2022-03-14T11:58:40.185919Z",
     "shell.execute_reply": "2022-03-14T11:58:40.185154Z",
     "shell.execute_reply.started": "2022-03-14T11:49:34.184446Z"
    },
    "papermill": {
     "duration": 0.288742,
     "end_time": "2022-03-14T11:58:40.186075",
     "exception": false,
     "start_time": "2022-03-14T11:58:39.897333",
     "status": "completed"
    },
    "tags": []
   },
   "outputs": [
    {
     "data": {
      "text/plain": [
       "<AxesSubplot:xlabel='TARGET(PRICE_IN_LACS)', ylabel='Count'>"
      ]
     },
     "execution_count": 10,
     "metadata": {},
     "output_type": "execute_result"
    },
    {
     "data": {
      "image/png": "[encoded data removed]",
      "text/plain": [
       "<Figure size 720x720 with 1 Axes>"
      ]
     },
     "metadata": {
      "needs_background": "light"
     },
     "output_type": "display_data"
    }
   ],
   "source": [
    "plt.figure(figsize = (10,10))\n",
    "sns.histplot(df['TARGET(PRICE_IN_LACS)'], bins = 10)"
   ]
  },
  {
   "cell_type": "code",
   "execution_count": 11,
   "id": "348c2640",
   "metadata": {
    "execution": {
     "iopub.execute_input": "2022-03-14T11:58:40.248851Z",
     "iopub.status.busy": "2022-03-14T11:58:40.248251Z",
     "iopub.status.idle": "2022-03-14T11:58:40.511931Z",
     "shell.execute_reply": "2022-03-14T11:58:40.512376Z",
     "shell.execute_reply.started": "2022-03-14T11:49:43.587227Z"
    },
    "papermill": {
     "duration": 0.296039,
     "end_time": "2022-03-14T11:58:40.512546",
     "exception": false,
     "start_time": "2022-03-14T11:58:40.216507",
     "status": "completed"
    },
    "tags": []
   },
   "outputs": [
    {
     "data": {
      "text/plain": [
       "<AxesSubplot:xlabel='SQUARE_FT', ylabel='Count'>"
      ]
     },
     "execution_count": 11,
     "metadata": {},
     "output_type": "execute_result"
    },
    {
     "data": {
      "image/png": "[encoded data removed]",
      "text/plain": [
       "<Figure size 720x720 with 1 Axes>"
      ]
     },
     "metadata": {
      "needs_background": "light"
     },
     "output_type": "display_data"
    }
   ],
   "source": [
    "plt.figure(figsize = (10,10))\n",
    "sns.histplot(df['SQUARE_FT'], bins = 20)"
   ]
  },
  {
   "cell_type": "code",
   "execution_count": 12,
   "id": "8c3916fc",
   "metadata": {
    "execution": {
     "iopub.execute_input": "2022-03-14T11:58:40.579403Z",
     "iopub.status.busy": "2022-03-14T11:58:40.578347Z",
     "iopub.status.idle": "2022-03-14T11:58:40.582511Z",
     "shell.execute_reply": "2022-03-14T11:58:40.582930Z",
     "shell.execute_reply.started": "2022-03-14T11:56:58.903484Z"
    },
    "papermill": {
     "duration": 0.039814,
     "end_time": "2022-03-14T11:58:40.583116",
     "exception": false,
     "start_time": "2022-03-14T11:58:40.543302",
     "status": "completed"
    },
    "tags": []
   },
   "outputs": [],
   "source": [
    "df['SQUARE_FT'] = np.log(df['SQUARE_FT'])\n"
   ]
  },
  {
   "cell_type": "code",
   "execution_count": 13,
   "id": "23bd8c42",
   "metadata": {
    "execution": {
     "iopub.execute_input": "2022-03-14T11:58:40.647675Z",
     "iopub.status.busy": "2022-03-14T11:58:40.647029Z",
     "iopub.status.idle": "2022-03-14T11:58:40.907781Z",
     "shell.execute_reply": "2022-03-14T11:58:40.908216Z",
     "shell.execute_reply.started": "2022-03-14T11:49:56.478001Z"
    },
    "papermill": {
     "duration": 0.29476,
     "end_time": "2022-03-14T11:58:40.908399",
     "exception": false,
     "start_time": "2022-03-14T11:58:40.613639",
     "status": "completed"
    },
    "tags": []
   },
   "outputs": [
    {
     "data": {
      "text/plain": [
       "<AxesSubplot:xlabel='LATITUDE', ylabel='Count'>"
      ]
     },
     "execution_count": 13,
     "metadata": {},
     "output_type": "execute_result"
    },
    {
     "data": {
      "image/png": "[encoded data removed]",
      "text/plain": [
       "<Figure size 720x720 with 1 Axes>"
      ]
     },
     "metadata": {
      "needs_background": "light"
     },
     "output_type": "display_data"
    }
   ],
   "source": [
    "plt.figure(figsize = (10,10))\n",
    "sns.histplot(df['LATITUDE'], bins = 20)"
   ]
  },
  {
   "cell_type": "code",
   "execution_count": 14,
   "id": "8c2c4d9e",
   "metadata": {
    "execution": {
     "iopub.execute_input": "2022-03-14T11:58:40.973240Z",
     "iopub.status.busy": "2022-03-14T11:58:40.972614Z",
     "iopub.status.idle": "2022-03-14T11:58:40.981146Z",
     "shell.execute_reply": "2022-03-14T11:58:40.980573Z",
     "shell.execute_reply.started": "2022-03-14T11:57:02.691336Z"
    },
    "papermill": {
     "duration": 0.041874,
     "end_time": "2022-03-14T11:58:40.981286",
     "exception": false,
     "start_time": "2022-03-14T11:58:40.939412",
     "status": "completed"
    },
    "tags": []
   },
   "outputs": [
    {
     "name": "stderr",
     "output_type": "stream",
     "text": [
      "/opt/conda/lib/python3.7/site-packages/pandas/core/arraylike.py:364: RuntimeWarning: invalid value encountered in log\n",
      "  result = getattr(ufunc, method)(*inputs, **kwargs)\n"
     ]
    }
   ],
   "source": [
    "df['LONGITUDE'] = np.log(df['LONGITUDE'] )\n",
    "df['LATITUDE'] = np.log(df['LATITUDE'] )"
   ]
  },
  {
   "cell_type": "code",
   "execution_count": 15,
   "id": "05d5e91f",
   "metadata": {
    "execution": {
     "iopub.execute_input": "2022-03-14T11:58:41.048114Z",
     "iopub.status.busy": "2022-03-14T11:58:41.047517Z",
     "iopub.status.idle": "2022-03-14T11:58:41.061823Z",
     "shell.execute_reply": "2022-03-14T11:58:41.061220Z",
     "shell.execute_reply.started": "2022-03-14T11:57:08.654189Z"
    },
    "papermill": {
     "duration": 0.048628,
     "end_time": "2022-03-14T11:58:41.061978",
     "exception": false,
     "start_time": "2022-03-14T11:58:41.013350",
     "status": "completed"
    },
    "tags": []
   },
   "outputs": [
    {
     "data": {
      "text/html": [
       "<div>\n",
       "<style scoped>\n",
       "    .dataframe tbody tr th:only-of-type {\n",
       "        vertical-align: middle;\n",
       "    }\n",
       "\n",
       "    .dataframe tbody tr th {\n",
       "        vertical-align: top;\n",
       "    }\n",
       "\n",
       "    .dataframe thead th {\n",
       "        text-align: right;\n",
       "    }\n",
       "</style>\n",
       "<table border=\"1\" class=\"dataframe\">\n",
       "  <thead>\n",
       "    <tr style=\"text-align: right;\">\n",
       "      <th></th>\n",
       "      <th>POSTED_BY</th>\n",
       "      <th>UNDER_CONSTRUCTION</th>\n",
       "      <th>RERA</th>\n",
       "      <th>BHK_NO.</th>\n",
       "      <th>BHK_OR_RK</th>\n",
       "      <th>SQUARE_FT</th>\n",
       "      <th>READY_TO_MOVE</th>\n",
       "      <th>RESALE</th>\n",
       "      <th>LONGITUDE</th>\n",
       "      <th>LATITUDE</th>\n",
       "      <th>TARGET(PRICE_IN_LACS)</th>\n",
       "      <th>CITY</th>\n",
       "    </tr>\n",
       "  </thead>\n",
       "  <tbody>\n",
       "    <tr>\n",
       "      <th>0</th>\n",
       "      <td>Owner</td>\n",
       "      <td>0</td>\n",
       "      <td>0</td>\n",
       "      <td>2</td>\n",
       "      <td>BHK</td>\n",
       "      <td>7.170301</td>\n",
       "      <td>1</td>\n",
       "      <td>1</td>\n",
       "      <td>2.562632</td>\n",
       "      <td>4.351541</td>\n",
       "      <td>55.0</td>\n",
       "      <td>Bangalore</td>\n",
       "    </tr>\n",
       "    <tr>\n",
       "      <th>1</th>\n",
       "      <td>Dealer</td>\n",
       "      <td>0</td>\n",
       "      <td>0</td>\n",
       "      <td>2</td>\n",
       "      <td>BHK</td>\n",
       "      <td>7.150701</td>\n",
       "      <td>1</td>\n",
       "      <td>1</td>\n",
       "      <td>2.507527</td>\n",
       "      <td>4.339179</td>\n",
       "      <td>51.0</td>\n",
       "      <td>Mysore</td>\n",
       "    </tr>\n",
       "    <tr>\n",
       "      <th>2</th>\n",
       "      <td>Owner</td>\n",
       "      <td>0</td>\n",
       "      <td>0</td>\n",
       "      <td>2</td>\n",
       "      <td>BHK</td>\n",
       "      <td>6.838576</td>\n",
       "      <td>1</td>\n",
       "      <td>1</td>\n",
       "      <td>2.547728</td>\n",
       "      <td>4.351982</td>\n",
       "      <td>43.0</td>\n",
       "      <td>Bangalore</td>\n",
       "    </tr>\n",
       "    <tr>\n",
       "      <th>3</th>\n",
       "      <td>Owner</td>\n",
       "      <td>0</td>\n",
       "      <td>1</td>\n",
       "      <td>2</td>\n",
       "      <td>BHK</td>\n",
       "      <td>6.835100</td>\n",
       "      <td>1</td>\n",
       "      <td>1</td>\n",
       "      <td>3.354885</td>\n",
       "      <td>4.348269</td>\n",
       "      <td>62.5</td>\n",
       "      <td>Ghaziabad</td>\n",
       "    </tr>\n",
       "    <tr>\n",
       "      <th>4</th>\n",
       "      <td>Dealer</td>\n",
       "      <td>1</td>\n",
       "      <td>0</td>\n",
       "      <td>2</td>\n",
       "      <td>BHK</td>\n",
       "      <td>6.906764</td>\n",
       "      <td>0</td>\n",
       "      <td>1</td>\n",
       "      <td>3.117605</td>\n",
       "      <td>4.482832</td>\n",
       "      <td>60.5</td>\n",
       "      <td>Kolkata</td>\n",
       "    </tr>\n",
       "  </tbody>\n",
       "</table>\n",
       "</div>"
      ],
      "text/plain": [
       "  POSTED_BY  UNDER_CONSTRUCTION  RERA  BHK_NO. BHK_OR_RK  SQUARE_FT  \\\n",
       "0     Owner                   0     0        2       BHK   7.170301   \n",
       "1    Dealer                   0     0        2       BHK   7.150701   \n",
       "2     Owner                   0     0        2       BHK   6.838576   \n",
       "3     Owner                   0     1        2       BHK   6.835100   \n",
       "4    Dealer                   1     0        2       BHK   6.906764   \n",
       "\n",
       "   READY_TO_MOVE  RESALE  LONGITUDE  LATITUDE  TARGET(PRICE_IN_LACS)  \\\n",
       "0              1       1   2.562632  4.351541                   55.0   \n",
       "1              1       1   2.507527  4.339179                   51.0   \n",
       "2              1       1   2.547728  4.351982                   43.0   \n",
       "3              1       1   3.354885  4.348269                   62.5   \n",
       "4              0       1   3.117605  4.482832                   60.5   \n",
       "\n",
       "        CITY  \n",
       "0  Bangalore  \n",
       "1     Mysore  \n",
       "2  Bangalore  \n",
       "3  Ghaziabad  \n",
       "4    Kolkata  "
      ]
     },
     "execution_count": 15,
     "metadata": {},
     "output_type": "execute_result"
    }
   ],
   "source": [
    "df.head()"
   ]
  },
  {
   "cell_type": "code",
   "execution_count": 16,
   "id": "86b05bc7",
   "metadata": {
    "execution": {
     "iopub.execute_input": "2022-03-14T11:58:41.141429Z",
     "iopub.status.busy": "2022-03-14T11:58:41.140546Z",
     "iopub.status.idle": "2022-03-14T11:58:41.331162Z",
     "shell.execute_reply": "2022-03-14T11:58:41.331691Z",
     "shell.execute_reply.started": "2022-03-14T11:50:16.401566Z"
    },
    "papermill": {
     "duration": 0.23787,
     "end_time": "2022-03-14T11:58:41.331872",
     "exception": false,
     "start_time": "2022-03-14T11:58:41.094002",
     "status": "completed"
    },
    "tags": []
   },
   "outputs": [
    {
     "data": {
      "text/plain": [
       "<AxesSubplot:xlabel='BHK_OR_RK', ylabel='count'>"
      ]
     },
     "execution_count": 16,
     "metadata": {},
     "output_type": "execute_result"
    },
    {
     "data": {
      "image/png": "[encoded data removed]",
      "text/plain": [
       "<Figure size 864x720 with 1 Axes>"
      ]
     },
     "metadata": {
      "needs_background": "light"
     },
     "output_type": "display_data"
    }
   ],
   "source": [
    "plt.figure(figsize = (12,10))\n",
    "sns.countplot(data = df, x = 'BHK_OR_RK')"
   ]
  },
  {
   "cell_type": "code",
   "execution_count": 17,
   "id": "5046aa3c",
   "metadata": {
    "execution": {
     "iopub.execute_input": "2022-03-14T11:58:41.401236Z",
     "iopub.status.busy": "2022-03-14T11:58:41.400602Z",
     "iopub.status.idle": "2022-03-14T11:58:41.429617Z",
     "shell.execute_reply": "2022-03-14T11:58:41.430191Z",
     "shell.execute_reply.started": "2022-03-14T11:57:13.019996Z"
    },
    "papermill": {
     "duration": 0.065249,
     "end_time": "2022-03-14T11:58:41.430387",
     "exception": false,
     "start_time": "2022-03-14T11:58:41.365138",
     "status": "completed"
    },
    "tags": []
   },
   "outputs": [],
   "source": [
    "def map_city(city):\n",
    "    if city in ['Ahmedabad', 'Bangalore', 'Chennai', 'Delhi', 'Hyderabad', 'Kolkata', 'Mumbai', 'Pune', 'Maharashtra']:\n",
    "        return 'tier1'\n",
    "    elif city in ['Agra', 'Ajmer', 'Aligarh', 'Amravati', 'Amritsar', 'Asansol', 'Aurangabad', 'Bareilly', \n",
    "                  'Belgaum', 'Bhavnagar', 'Bhiwandi', 'Bhopal', 'Bhubaneswar', 'Bikaner', 'Bilaspur', 'Bokaro Steel City', \n",
    "                  'Chandigarh', 'Coimbatore', 'Cuttack', 'Dehradun', 'Dhanbad', 'Bhilai', 'Durgapur', 'Dindigul', 'Erode', \n",
    "                  'Faridabad', 'Firozabad', 'Ghaziabad', 'Gorakhpur', 'Gulbarga', 'Guntur', 'Gwalior', 'Gurgaon', 'Guwahati', \n",
    "                  'Hamirpur', 'Hubli–Dharwad', 'Indore', 'Jabalpur', 'Jaipur', 'Jalandhar', 'Jammu', 'Jamnagar', 'Jamshedpur', \n",
    "                  'Jhansi', 'Jodhpur', 'Kakinada', 'Kannur', 'Kanpur', 'Karnal', 'Kochi', 'Kolhapur', 'Kollam', 'Kozhikode', \n",
    "                  'Kurnool', 'Ludhiana', 'Lucknow', 'Madurai', 'Malappuram', 'Mathura', 'Mangalore', 'Meerut', 'Moradabad', \n",
    "                  'Mysore', 'Nagpur', 'Nanded', 'Nashik', 'Nellore', 'Noida', 'Patna', 'Pondicherry', 'Purulia', 'Prayagraj', \n",
    "                  'Raipur', 'Rajkot', 'Rajahmundry', 'Ranchi', 'Rourkela', 'Ratlam', 'Salem', 'Sangli', 'Shimla', 'Siliguri', \n",
    "                  'Solapur', 'Srinagar', 'Surat', 'Thanjavur', 'Thiruvananthapuram', 'Thrissur', 'Tiruchirappalli', 'Tirunelveli', \n",
    "                  'Tiruvannamalai', 'Ujjain', 'Bijapur', 'Vadodara', 'Varanasi', 'Vasai-Virar City', 'Vijayawada', 'Visakhapatnam', \n",
    "                  'Vellore', 'Warangal']:\n",
    "        return 'tier2'\n",
    "    else:\n",
    "        return 'tier3'\n",
    "    \n",
    "df['city_tier'] = df['CITY'].apply(map_city)"
   ]
  },
  {
   "cell_type": "code",
   "execution_count": 18,
   "id": "e846bfbe",
   "metadata": {
    "execution": {
     "iopub.execute_input": "2022-03-14T11:58:41.513553Z",
     "iopub.status.busy": "2022-03-14T11:58:41.512869Z",
     "iopub.status.idle": "2022-03-14T11:58:41.517020Z",
     "shell.execute_reply": "2022-03-14T11:58:41.516444Z",
     "shell.execute_reply.started": "2022-03-14T11:57:15.568623Z"
    },
    "papermill": {
     "duration": 0.052608,
     "end_time": "2022-03-14T11:58:41.517165",
     "exception": false,
     "start_time": "2022-03-14T11:58:41.464557",
     "status": "completed"
    },
    "tags": []
   },
   "outputs": [
    {
     "data": {
      "text/html": [
       "<div>\n",
       "<style scoped>\n",
       "    .dataframe tbody tr th:only-of-type {\n",
       "        vertical-align: middle;\n",
       "    }\n",
       "\n",
       "    .dataframe tbody tr th {\n",
       "        vertical-align: top;\n",
       "    }\n",
       "\n",
       "    .dataframe thead th {\n",
       "        text-align: right;\n",
       "    }\n",
       "</style>\n",
       "<table border=\"1\" class=\"dataframe\">\n",
       "  <thead>\n",
       "    <tr style=\"text-align: right;\">\n",
       "      <th></th>\n",
       "      <th>POSTED_BY</th>\n",
       "      <th>UNDER_CONSTRUCTION</th>\n",
       "      <th>RERA</th>\n",
       "      <th>BHK_NO.</th>\n",
       "      <th>BHK_OR_RK</th>\n",
       "      <th>SQUARE_FT</th>\n",
       "      <th>READY_TO_MOVE</th>\n",
       "      <th>RESALE</th>\n",
       "      <th>LONGITUDE</th>\n",
       "      <th>LATITUDE</th>\n",
       "      <th>TARGET(PRICE_IN_LACS)</th>\n",
       "      <th>CITY</th>\n",
       "      <th>city_tier</th>\n",
       "    </tr>\n",
       "  </thead>\n",
       "  <tbody>\n",
       "    <tr>\n",
       "      <th>0</th>\n",
       "      <td>Owner</td>\n",
       "      <td>0</td>\n",
       "      <td>0</td>\n",
       "      <td>2</td>\n",
       "      <td>BHK</td>\n",
       "      <td>7.170301</td>\n",
       "      <td>1</td>\n",
       "      <td>1</td>\n",
       "      <td>2.562632</td>\n",
       "      <td>4.351541</td>\n",
       "      <td>55.0</td>\n",
       "      <td>Bangalore</td>\n",
       "      <td>tier1</td>\n",
       "    </tr>\n",
       "    <tr>\n",
       "      <th>1</th>\n",
       "      <td>Dealer</td>\n",
       "      <td>0</td>\n",
       "      <td>0</td>\n",
       "      <td>2</td>\n",
       "      <td>BHK</td>\n",
       "      <td>7.150701</td>\n",
       "      <td>1</td>\n",
       "      <td>1</td>\n",
       "      <td>2.507527</td>\n",
       "      <td>4.339179</td>\n",
       "      <td>51.0</td>\n",
       "      <td>Mysore</td>\n",
       "      <td>tier2</td>\n",
       "    </tr>\n",
       "    <tr>\n",
       "      <th>2</th>\n",
       "      <td>Owner</td>\n",
       "      <td>0</td>\n",
       "      <td>0</td>\n",
       "      <td>2</td>\n",
       "      <td>BHK</td>\n",
       "      <td>6.838576</td>\n",
       "      <td>1</td>\n",
       "      <td>1</td>\n",
       "      <td>2.547728</td>\n",
       "      <td>4.351982</td>\n",
       "      <td>43.0</td>\n",
       "      <td>Bangalore</td>\n",
       "      <td>tier1</td>\n",
       "    </tr>\n",
       "    <tr>\n",
       "      <th>3</th>\n",
       "      <td>Owner</td>\n",
       "      <td>0</td>\n",
       "      <td>1</td>\n",
       "      <td>2</td>\n",
       "      <td>BHK</td>\n",
       "      <td>6.835100</td>\n",
       "      <td>1</td>\n",
       "      <td>1</td>\n",
       "      <td>3.354885</td>\n",
       "      <td>4.348269</td>\n",
       "      <td>62.5</td>\n",
       "      <td>Ghaziabad</td>\n",
       "      <td>tier2</td>\n",
       "    </tr>\n",
       "    <tr>\n",
       "      <th>4</th>\n",
       "      <td>Dealer</td>\n",
       "      <td>1</td>\n",
       "      <td>0</td>\n",
       "      <td>2</td>\n",
       "      <td>BHK</td>\n",
       "      <td>6.906764</td>\n",
       "      <td>0</td>\n",
       "      <td>1</td>\n",
       "      <td>3.117605</td>\n",
       "      <td>4.482832</td>\n",
       "      <td>60.5</td>\n",
       "      <td>Kolkata</td>\n",
       "      <td>tier1</td>\n",
       "    </tr>\n",
       "  </tbody>\n",
       "</table>\n",
       "</div>"
      ],
      "text/plain": [
       "  POSTED_BY  UNDER_CONSTRUCTION  RERA  BHK_NO. BHK_OR_RK  SQUARE_FT  \\\n",
       "0     Owner                   0     0        2       BHK   7.170301   \n",
       "1    Dealer                   0     0        2       BHK   7.150701   \n",
       "2     Owner                   0     0        2       BHK   6.838576   \n",
       "3     Owner                   0     1        2       BHK   6.835100   \n",
       "4    Dealer                   1     0        2       BHK   6.906764   \n",
       "\n",
       "   READY_TO_MOVE  RESALE  LONGITUDE  LATITUDE  TARGET(PRICE_IN_LACS)  \\\n",
       "0              1       1   2.562632  4.351541                   55.0   \n",
       "1              1       1   2.507527  4.339179                   51.0   \n",
       "2              1       1   2.547728  4.351982                   43.0   \n",
       "3              1       1   3.354885  4.348269                   62.5   \n",
       "4              0       1   3.117605  4.482832                   60.5   \n",
       "\n",
       "        CITY city_tier  \n",
       "0  Bangalore     tier1  \n",
       "1     Mysore     tier2  \n",
       "2  Bangalore     tier1  \n",
       "3  Ghaziabad     tier2  \n",
       "4    Kolkata     tier1  "
      ]
     },
     "execution_count": 18,
     "metadata": {},
     "output_type": "execute_result"
    }
   ],
   "source": [
    "df.head()"
   ]
  },
  {
   "cell_type": "code",
   "execution_count": 19,
   "id": "40acc51e",
   "metadata": {
    "execution": {
     "iopub.execute_input": "2022-03-14T11:58:41.593278Z",
     "iopub.status.busy": "2022-03-14T11:58:41.591297Z",
     "iopub.status.idle": "2022-03-14T11:58:41.596030Z",
     "shell.execute_reply": "2022-03-14T11:58:41.595548Z",
     "shell.execute_reply.started": "2022-03-14T11:57:18.272126Z"
    },
    "papermill": {
     "duration": 0.04548,
     "end_time": "2022-03-14T11:58:41.596163",
     "exception": false,
     "start_time": "2022-03-14T11:58:41.550683",
     "status": "completed"
    },
    "tags": []
   },
   "outputs": [],
   "source": [
    "df = df.drop('CITY', axis = 1)"
   ]
  },
  {
   "cell_type": "code",
   "execution_count": 20,
   "id": "8c4441c2",
   "metadata": {
    "execution": {
     "iopub.execute_input": "2022-03-14T11:58:41.667495Z",
     "iopub.status.busy": "2022-03-14T11:58:41.666863Z",
     "iopub.status.idle": "2022-03-14T11:58:41.669633Z",
     "shell.execute_reply": "2022-03-14T11:58:41.669133Z",
     "shell.execute_reply.started": "2022-03-14T11:57:19.892240Z"
    },
    "papermill": {
     "duration": 0.040335,
     "end_time": "2022-03-14T11:58:41.669769",
     "exception": false,
     "start_time": "2022-03-14T11:58:41.629434",
     "status": "completed"
    },
    "tags": []
   },
   "outputs": [],
   "source": [
    "features = ['POSTED_BY', 'BHK_OR_RK', 'city_tier']"
   ]
  },
  {
   "cell_type": "code",
   "execution_count": 21,
   "id": "9c5ef951",
   "metadata": {
    "execution": {
     "iopub.execute_input": "2022-03-14T11:58:41.740275Z",
     "iopub.status.busy": "2022-03-14T11:58:41.739705Z",
     "iopub.status.idle": "2022-03-14T11:58:41.758647Z",
     "shell.execute_reply": "2022-03-14T11:58:41.759136Z",
     "shell.execute_reply.started": "2022-03-14T11:57:21.922559Z"
    },
    "papermill": {
     "duration": 0.055441,
     "end_time": "2022-03-14T11:58:41.759301",
     "exception": false,
     "start_time": "2022-03-14T11:58:41.703860",
     "status": "completed"
    },
    "tags": []
   },
   "outputs": [],
   "source": [
    "new_df = pd.get_dummies(df, columns = features)"
   ]
  },
  {
   "cell_type": "code",
   "execution_count": 22,
   "id": "aebed3ab",
   "metadata": {
    "execution": {
     "iopub.execute_input": "2022-03-14T11:58:41.830661Z",
     "iopub.status.busy": "2022-03-14T11:58:41.828894Z",
     "iopub.status.idle": "2022-03-14T11:58:41.837187Z",
     "shell.execute_reply": "2022-03-14T11:58:41.837643Z",
     "shell.execute_reply.started": "2022-03-14T11:50:52.838709Z"
    },
    "papermill": {
     "duration": 0.045028,
     "end_time": "2022-03-14T11:58:41.837807",
     "exception": false,
     "start_time": "2022-03-14T11:58:41.792779",
     "status": "completed"
    },
    "tags": []
   },
   "outputs": [
    {
     "data": {
      "text/plain": [
       "UNDER_CONSTRUCTION        0\n",
       "RERA                      0\n",
       "BHK_NO.                   0\n",
       "SQUARE_FT                 0\n",
       "READY_TO_MOVE             0\n",
       "RESALE                    0\n",
       "LONGITUDE                12\n",
       "LATITUDE                 83\n",
       "TARGET(PRICE_IN_LACS)     0\n",
       "POSTED_BY_Builder         0\n",
       "POSTED_BY_Dealer          0\n",
       "POSTED_BY_Owner           0\n",
       "BHK_OR_RK_BHK             0\n",
       "BHK_OR_RK_RK              0\n",
       "city_tier_tier1           0\n",
       "city_tier_tier2           0\n",
       "city_tier_tier3           0\n",
       "dtype: int64"
      ]
     },
     "execution_count": 22,
     "metadata": {},
     "output_type": "execute_result"
    }
   ],
   "source": [
    "new_df.isna().sum()"
   ]
  },
  {
   "cell_type": "code",
   "execution_count": 23,
   "id": "62cbcfdf",
   "metadata": {
    "execution": {
     "iopub.execute_input": "2022-03-14T11:58:41.911476Z",
     "iopub.status.busy": "2022-03-14T11:58:41.908666Z",
     "iopub.status.idle": "2022-03-14T11:58:41.925016Z",
     "shell.execute_reply": "2022-03-14T11:58:41.925532Z",
     "shell.execute_reply.started": "2022-03-14T11:57:27.631934Z"
    },
    "papermill": {
     "duration": 0.054268,
     "end_time": "2022-03-14T11:58:41.925707",
     "exception": false,
     "start_time": "2022-03-14T11:58:41.871439",
     "status": "completed"
    },
    "tags": []
   },
   "outputs": [],
   "source": [
    "new_df.dropna(subset=['LATITUDE'], how='all', inplace=True)\n",
    "new_df.dropna(subset=['LONGITUDE'], how='all', inplace=True)"
   ]
  },
  {
   "cell_type": "code",
   "execution_count": 24,
   "id": "22bd8f56",
   "metadata": {
    "execution": {
     "iopub.execute_input": "2022-03-14T11:58:42.000774Z",
     "iopub.status.busy": "2022-03-14T11:58:41.997034Z",
     "iopub.status.idle": "2022-03-14T11:58:42.354877Z",
     "shell.execute_reply": "2022-03-14T11:58:42.355353Z",
     "shell.execute_reply.started": "2022-03-14T11:51:10.803958Z"
    },
    "papermill": {
     "duration": 0.395303,
     "end_time": "2022-03-14T11:58:42.355537",
     "exception": false,
     "start_time": "2022-03-14T11:58:41.960234",
     "status": "completed"
    },
    "tags": []
   },
   "outputs": [
    {
     "data": {
      "text/plain": [
       "<AxesSubplot:xlabel='TARGET(PRICE_IN_LACS)', ylabel='SQUARE_FT'>"
      ]
     },
     "execution_count": 24,
     "metadata": {},
     "output_type": "execute_result"
    },
    {
     "data": {
      "image/png": "[encoded data removed]",
      "text/plain": [
       "<Figure size 720x720 with 1 Axes>"
      ]
     },
     "metadata": {
      "needs_background": "light"
     },
     "output_type": "display_data"
    }
   ],
   "source": [
    "plt.figure(figsize = (10,10))\n",
    "sns.scatterplot(data = df, x = 'TARGET(PRICE_IN_LACS)', y = 'SQUARE_FT')"
   ]
  },
  {
   "cell_type": "code",
   "execution_count": 25,
   "id": "c313f497",
   "metadata": {
    "execution": {
     "iopub.execute_input": "2022-03-14T11:58:42.437578Z",
     "iopub.status.busy": "2022-03-14T11:58:42.436591Z",
     "iopub.status.idle": "2022-03-14T11:58:42.446436Z",
     "shell.execute_reply": "2022-03-14T11:58:42.446927Z",
     "shell.execute_reply.started": "2022-03-14T11:57:31.107322Z"
    },
    "papermill": {
     "duration": 0.054672,
     "end_time": "2022-03-14T11:58:42.447090",
     "exception": false,
     "start_time": "2022-03-14T11:58:42.392418",
     "status": "completed"
    },
    "tags": []
   },
   "outputs": [],
   "source": [
    "X = new_df.drop('TARGET(PRICE_IN_LACS)', axis = 1)\n",
    "y = new_df['TARGET(PRICE_IN_LACS)']\n",
    "X_train, X_valid, y_train, y_valid = train_test_split(X, y, test_size = 0.3, random_state = 100)"
   ]
  },
  {
   "cell_type": "code",
   "execution_count": 26,
   "id": "3a8f1458",
   "metadata": {
    "execution": {
     "iopub.execute_input": "2022-03-14T11:58:42.521876Z",
     "iopub.status.busy": "2022-03-14T11:58:42.520942Z",
     "iopub.status.idle": "2022-03-14T11:58:42.528193Z",
     "shell.execute_reply": "2022-03-14T11:58:42.528799Z",
     "shell.execute_reply.started": "2022-03-14T11:57:32.662944Z"
    },
    "papermill": {
     "duration": 0.046319,
     "end_time": "2022-03-14T11:58:42.528989",
     "exception": false,
     "start_time": "2022-03-14T11:58:42.482670",
     "status": "completed"
    },
    "tags": []
   },
   "outputs": [
    {
     "data": {
      "text/plain": [
       "29378    120.0\n",
       "14660    470.0\n",
       "16097     75.0\n",
       "12025     60.0\n",
       "5055      51.0\n",
       "         ...  \n",
       "12157     50.0\n",
       "24495    100.0\n",
       "14189     38.9\n",
       "23385     85.2\n",
       "5657      65.0\n",
       "Name: TARGET(PRICE_IN_LACS), Length: 20549, dtype: float64"
      ]
     },
     "execution_count": 26,
     "metadata": {},
     "output_type": "execute_result"
    }
   ],
   "source": [
    "y_train"
   ]
  },
  {
   "cell_type": "code",
   "execution_count": 27,
   "id": "08c1591e",
   "metadata": {
    "execution": {
     "iopub.execute_input": "2022-03-14T11:58:42.607148Z",
     "iopub.status.busy": "2022-03-14T11:58:42.606168Z",
     "iopub.status.idle": "2022-03-14T11:58:42.646806Z",
     "shell.execute_reply": "2022-03-14T11:58:42.647807Z",
     "shell.execute_reply.started": "2022-03-14T11:57:37.446181Z"
    },
    "papermill": {
     "duration": 0.082964,
     "end_time": "2022-03-14T11:58:42.648143",
     "exception": false,
     "start_time": "2022-03-14T11:58:42.565179",
     "status": "completed"
    },
    "tags": []
   },
   "outputs": [],
   "source": [
    "lr = LinearRegression()\n",
    "\n",
    "lr.fit(X_train, y_train)\n",
    "y_pred = lr.predict(X_train)"
   ]
  },
  {
   "cell_type": "code",
   "execution_count": 28,
   "id": "7b4ce2ae",
   "metadata": {
    "execution": {
     "iopub.execute_input": "2022-03-14T11:58:42.811745Z",
     "iopub.status.busy": "2022-03-14T11:58:42.810627Z",
     "iopub.status.idle": "2022-03-14T11:58:42.821909Z",
     "shell.execute_reply": "2022-03-14T11:58:42.822693Z",
     "shell.execute_reply.started": "2022-03-14T11:57:39.831951Z"
    },
    "papermill": {
     "duration": 0.055746,
     "end_time": "2022-03-14T11:58:42.823007",
     "exception": false,
     "start_time": "2022-03-14T11:58:42.767261",
     "status": "completed"
    },
    "tags": []
   },
   "outputs": [
    {
     "name": "stdout",
     "output_type": "stream",
     "text": [
      "0.523906246514017\n",
      "0.5182463526415328\n"
     ]
    }
   ],
   "source": [
    "print(lr.score(X_train, y_train))\n",
    "print(lr.score(X_valid, y_valid))"
   ]
  },
  {
   "cell_type": "markdown",
   "id": "70a89f92",
   "metadata": {
    "papermill": {
     "duration": 0.056327,
     "end_time": "2022-03-14T11:58:42.957958",
     "exception": false,
     "start_time": "2022-03-14T11:58:42.901631",
     "status": "completed"
    },
    "tags": []
   },
   "source": [
    "# Random Forest"
   ]
  },
  {
   "cell_type": "code",
   "execution_count": 29,
   "id": "226e4088",
   "metadata": {
    "execution": {
     "iopub.execute_input": "2022-03-14T11:58:43.042032Z",
     "iopub.status.busy": "2022-03-14T11:58:43.040990Z",
     "iopub.status.idle": "2022-03-14T11:58:51.661509Z",
     "shell.execute_reply": "2022-03-14T11:58:51.661980Z",
     "shell.execute_reply.started": "2022-03-14T11:57:45.713784Z"
    },
    "papermill": {
     "duration": 8.666784,
     "end_time": "2022-03-14T11:58:51.662147",
     "exception": false,
     "start_time": "2022-03-14T11:58:42.995363",
     "status": "completed"
    },
    "tags": []
   },
   "outputs": [
    {
     "name": "stdout",
     "output_type": "stream",
     "text": [
      "Random Forest:  0.9536009853458558\n"
     ]
    }
   ],
   "source": [
    "from sklearn.ensemble import RandomForestRegressor\n",
    "from sklearn.metrics import r2_score\n",
    "\n",
    "rf_model = RandomForestRegressor(n_estimators=100, random_state=42)\n",
    "\n",
    "rf_model.fit(X_train, y_train)\n",
    "\n",
    "preds = rf_model.predict(X_valid)\n",
    "\n",
    "print('Random Forest: ', r2_score(y_valid, preds))"
   ]
  },
  {
   "cell_type": "markdown",
   "id": "ec31f401",
   "metadata": {
    "papermill": {
     "duration": 0.036886,
     "end_time": "2022-03-14T11:58:51.734905",
     "exception": false,
     "start_time": "2022-03-14T11:58:51.698019",
     "status": "completed"
    },
    "tags": []
   },
   "source": [
    "# DecisionTree"
   ]
  },
  {
   "cell_type": "code",
   "execution_count": 30,
   "id": "6976d9f9",
   "metadata": {
    "execution": {
     "iopub.execute_input": "2022-03-14T11:58:51.810733Z",
     "iopub.status.busy": "2022-03-14T11:58:51.809739Z",
     "iopub.status.idle": "2022-03-14T11:58:51.962256Z",
     "shell.execute_reply": "2022-03-14T11:58:51.961784Z",
     "shell.execute_reply.started": "2022-03-14T11:57:58.970038Z"
    },
    "papermill": {
     "duration": 0.191442,
     "end_time": "2022-03-14T11:58:51.962439",
     "exception": false,
     "start_time": "2022-03-14T11:58:51.770997",
     "status": "completed"
    },
    "tags": []
   },
   "outputs": [
    {
     "data": {
      "text/plain": [
       "0.9999711666333725"
      ]
     },
     "execution_count": 30,
     "metadata": {},
     "output_type": "execute_result"
    }
   ],
   "source": [
    "from sklearn.tree import DecisionTreeRegressor\n",
    "\n",
    "dt = DecisionTreeRegressor()\n",
    "dt.fit(X_train, y_train)\n",
    "\n",
    "preds = dt.predict(X_train)\n",
    "\n",
    "r2_score(y_train, preds)"
   ]
  },
  {
   "cell_type": "code",
   "execution_count": null,
   "id": "5e25c2fd",
   "metadata": {
    "papermill": {
     "duration": 0.036627,
     "end_time": "2022-03-14T11:58:52.036475",
     "exception": false,
     "start_time": "2022-03-14T11:58:51.999848",
     "status": "completed"
    },
    "tags": []
   },
   "outputs": [],
   "source": []
  }
 ],
 "metadata": {
  "kernelspec": {
   "display_name": "Python 3",
   "language": "python",
   "name": "python3"
  },
  "language_info": {
   "codemirror_mode": {
    "name": "ipython",
    "version": 3
   },
   "file_extension": ".py",
   "mimetype": "text/x-python",
   "name": "python",
   "nbconvert_exporter": "python",
   "pygments_lexer": "ipython3",
   "version": "3.7.12"
  },
  "papermill": {
   "default_parameters": {},
   "duration": 24.715314,
   "end_time": "2022-03-14T11:58:52.884562",
   "environment_variables": {},
   "exception": null,
   "input_path": "__notebook__.ipynb",
   "output_path": "__notebook__.ipynb",
   "parameters": {},
   "start_time": "2022-03-14T11:58:28.169248",
   "version": "2.3.3"
  }
 },
 "nbformat": 4,
 "nbformat_minor": 5
}
